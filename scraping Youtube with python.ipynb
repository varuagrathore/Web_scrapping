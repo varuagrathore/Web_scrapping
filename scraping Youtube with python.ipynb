{
 "cells": [
  {
   "cell_type": "code",
   "execution_count": 2,
   "id": "8a47e441-3751-41ee-bc44-fd6eb9baef67",
   "metadata": {},
   "outputs": [
    {
     "name": "stdout",
     "output_type": "stream",
     "text": [
      "Collecting pytube\n",
      "  Downloading pytube-15.0.0-py3-none-any.whl.metadata (5.0 kB)\n",
      "Downloading pytube-15.0.0-py3-none-any.whl (57 kB)\n",
      "   ---------------------------------------- 0.0/57.6 kB ? eta -:--:--\n",
      "   ----------------------------------- ---- 51.2/57.6 kB 1.3 MB/s eta 0:00:01\n",
      "   ---------------------------------------- 57.6/57.6 kB 1.0 MB/s eta 0:00:00\n",
      "Installing collected packages: pytube\n",
      "Successfully installed pytube-15.0.0\n",
      "Note: you may need to restart the kernel to use updated packages.\n"
     ]
    },
    {
     "name": "stderr",
     "output_type": "stream",
     "text": [
      "\n",
      "[notice] A new release of pip is available: 23.3.1 -> 24.0\n",
      "[notice] To update, run: python.exe -m pip install --upgrade pip\n"
     ]
    }
   ],
   "source": [
    "pip install pytube\n"
   ]
  },
  {
   "cell_type": "code",
   "execution_count": 8,
   "id": "bd7fd1dd-23c6-4a5b-9aee-466fb579f1a6",
   "metadata": {},
   "outputs": [],
   "source": [
    "from pytube import YouTube"
   ]
  },
  {
   "cell_type": "code",
   "execution_count": 5,
   "id": "773c1831-7c74-4ba4-a7f3-020f4ccad0cf",
   "metadata": {},
   "outputs": [
    {
     "name": "stdin",
     "output_type": "stream",
     "text": [
      "Enter Lik of YouTube Video: https://www.youtube.com/watch?v=qrZGfBBlXpk&t=1567s\n"
     ]
    }
   ],
   "source": [
    "link = input(\"Enter Lik of YouTube Video:\")\n",
    "yt = YouTube(link)"
   ]
  },
  {
   "cell_type": "code",
   "execution_count": 6,
   "id": "8bff6dc2-6b38-450a-a77d-8545f3122ddd",
   "metadata": {},
   "outputs": [
    {
     "name": "stdout",
     "output_type": "stream",
     "text": [
      "Title : Django ChatGPT Clone Tutorial\n",
      "Views : 90560\n",
      "Duration : 5612\n",
      "Description : None\n",
      "Ratings : None\n"
     ]
    }
   ],
   "source": [
    "# To print title\n",
    "print(\"Title :\", yt.title)\n",
    "# To get number of views\n",
    "print(\"Views :\", yt.views)\n",
    "# To get the length of video\n",
    "print(\"Duration :\", yt.length)\n",
    "# To get description\n",
    "print(\"Description :\", yt.description)\n",
    "# To get ratings\n",
    "print(\"Ratings :\", yt.rating)"
   ]
  },
  {
   "cell_type": "code",
   "execution_count": null,
   "id": "406bdeb4-abd7-4d73-8dbf-7e6ec3b3ea57",
   "metadata": {},
   "outputs": [],
   "source": [
    "stream = yt.streams.get_highest_resolution()\n",
    "stream.download()\n",
    "print(\"Download completed!!\")"
   ]
  },
  {
   "cell_type": "code",
   "execution_count": 9,
   "id": "0d93a5f0-6ffb-439e-ac03-6703a5a916e3",
   "metadata": {},
   "outputs": [],
   "source": [
    "def download_video(url, output_path='.'):\n",
    "    try:\n",
    "        \n",
    "        yt = YouTube(url)\n",
    "        \n",
    "        # Print video title\n",
    "        print(f\"Title: {yt.title}\")\n",
    "        \n",
    "        # Get the highest resolution stream\n",
    "        stream = yt.streams.get_highest_resolution()\n",
    "        \n",
    "        # Download the video\n",
    "        print(\"Downloading...\")\n",
    "        stream.download()\n",
    "        print(\"Download completed!\")\n",
    "    except Exception as e:\n",
    "        print(f\"An error occurred: {e}\")\n"
   ]
  },
  {
   "cell_type": "code",
   "execution_count": 10,
   "id": "797cae68-51af-419f-bdec-5586b4f9b902",
   "metadata": {},
   "outputs": [],
   "source": [
    "video_url = 'https://www.youtube.com/watch?v=qxbHtcfHq2s'\n"
   ]
  },
  {
   "cell_type": "code",
   "execution_count": 11,
   "id": "44019d87-649d-40e6-ba45-05c585bbe88b",
   "metadata": {},
   "outputs": [
    {
     "name": "stdout",
     "output_type": "stream",
     "text": [
      "Title: SOOSEKI (The Couple Song) Lyrical Video | Pushpa 2 The Rule | Allu Arjun | Rashmika | Sukumar| DSP\n",
      "Downloading...\n",
      "Download completed!\n"
     ]
    }
   ],
   "source": [
    "download_video(video_url)\n"
   ]
  },
  {
   "cell_type": "code",
   "execution_count": null,
   "id": "6865b6de-9c59-47c8-aa34-3a81fc76e24c",
   "metadata": {},
   "outputs": [],
   "source": []
  }
 ],
 "metadata": {
  "kernelspec": {
   "display_name": "Python 3 (ipykernel)",
   "language": "python",
   "name": "python3"
  },
  "language_info": {
   "codemirror_mode": {
    "name": "ipython",
    "version": 3
   },
   "file_extension": ".py",
   "mimetype": "text/x-python",
   "name": "python",
   "nbconvert_exporter": "python",
   "pygments_lexer": "ipython3",
   "version": "3.11.4"
  }
 },
 "nbformat": 4,
 "nbformat_minor": 5
}
